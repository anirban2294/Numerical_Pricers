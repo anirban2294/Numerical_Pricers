{
 "cells": [
  {
   "cell_type": "code",
   "execution_count": 1,
   "id": "83f5ae6f",
   "metadata": {},
   "outputs": [],
   "source": [
    "import time\n",
    "from enum import Enum\n",
    "import math\n",
    "import matplotlib.pyplot as plt\n",
    "import numpy as np"
   ]
  },
  {
   "cell_type": "code",
   "execution_count": 28,
   "id": "38f7f0f9",
   "metadata": {},
   "outputs": [
    {
     "data": {
      "text/plain": [
       "7.798504987524955"
      ]
     },
     "execution_count": 28,
     "metadata": {},
     "output_type": "execute_result"
    }
   ],
   "source": [
    "# one step binomial\n",
    "from enum import Enum\n",
    "import math\n",
    "class PayoffType(str, Enum):\n",
    "    Call = 'Call'\n",
    "    Put = 'Put'\n",
    "\n",
    "def oneStepBinomial(S:float, r:float, u:float, d:float, optType:PayoffType, K:float, T:float) -> float:\n",
    "    p = (math.exp(r * T) - d) / (u-d)\n",
    "    if optType == PayoffType.Call:\n",
    "        return math.exp(-r*T) * (p*max(S*u-K, 0) + (1-p) * max(S*d-K, 0))\n",
    "\n",
    "oneStepBinomial(S=100, r=0.01, u=1.2, d=0.8, optType=PayoffType.Call, K=105, T=1.0)"
   ]
  },
  {
   "cell_type": "code",
   "execution_count": 5,
   "id": "18c6904c",
   "metadata": {},
   "outputs": [],
   "source": [
    "# Black-Scholes analytic pricer\n",
    "def cnorm(x):\n",
    "    return (1.0 + math.erf(x / math.sqrt(2.0))) / 2.0\n",
    "\n",
    "def bsPrice(S, r, vol, T, strike, payoffType):\n",
    "    fwd = S * math.exp(r * T)\n",
    "    stdev = vol * math.sqrt(T)\n",
    "    d1 = math.log(fwd / strike) / stdev + stdev / 2\n",
    "    d2 = d1 - stdev\n",
    "    if payoffType == PayoffType.Call:\n",
    "        return math.exp(-r * T) * (fwd * cnorm(d1) - cnorm(d2) * strike)\n",
    "    elif payoffType == PayoffType.Put:\n",
    "        return math.exp(-r * T) * (strike * cnorm(-d2) - cnorm(-d1) * fwd)\n",
    "    elif payoffType == PayoffType.BinaryCall:\n",
    "        return math.exp(-r * T) * cnorm(d1)\n",
    "    elif payoffType == PayoffType.BinaryPut:\n",
    "        return math.exp(-r * T) * (1-cnorm(-d1))\n",
    "    else:\n",
    "        raise Exception(\"not supported payoff type\", payoffType)"
   ]
  },
  {
   "cell_type": "code",
   "execution_count": 6,
   "id": "c746994a",
   "metadata": {},
   "outputs": [
    {
     "name": "stdout",
     "output_type": "stream",
     "text": [
      "blackPrice:  6.297254539086019\n",
      "oneStepTree:  7.798504987524955\n"
     ]
    }
   ],
   "source": [
    "# test ---\n",
    "S, r, vol, K, T, u, d = 100, 0.01, 0.2, 105, 1.0, 1.2, 0.8\n",
    "print(\"blackPrice: \", bsPrice(S, r, vol, T, K, PayoffType.Call))\n",
    "print(\"oneStepTree: \", oneStepBinomial(S, r, u, d, PayoffType.Call, K, T))\n"
   ]
  },
  {
   "cell_type": "code",
   "execution_count": 7,
   "id": "7cd62255",
   "metadata": {},
   "outputs": [],
   "source": [
    "def oneStepBinomial2(S, r, vol, optType, K, T):\n",
    "    b = math.exp(vol * vol * T+r*T) + math.exp(-r * T)\n",
    "    u = (b + math.sqrt(b*b - 4)) / 2\n",
    "    d = 1/u\n",
    "    p = (math.exp(r * T) - d) / (u-d)\n",
    "    if optType == PayoffType.Call:\n",
    "        return math.exp(-r * T) * (p * max(S * u - K, 0) + (1-p) * max(S * d - K, 0))"
   ]
  },
  {
   "cell_type": "code",
   "execution_count": 8,
   "id": "f4812580",
   "metadata": {},
   "outputs": [
    {
     "name": "stdout",
     "output_type": "stream",
     "text": [
      "blackPrice:  6.297254539086019\n",
      "oneStepTree1: \t 7.798504987524955\n",
      "oneStepTree2: \t 8.212289615248919\n"
     ]
    }
   ],
   "source": [
    "# test ---\n",
    "S,r,vol,K,T,u,d = 100, 0.01, 0.2, 105, 1.0, 1.2, 0.8\n",
    "print(\"blackPrice: \", bsPrice(S, r, vol, T, K, PayoffType.Call))\n",
    "print(\"oneStepTree1: \\t\", oneStepBinomial(S, r, u, d, PayoffType.Call, K, T))\n",
    "print(\"oneStepTree2: \\t\", oneStepBinomial2(S, r, vol, PayoffType.Call, K, T))"
   ]
  },
  {
   "cell_type": "code",
   "execution_count": 9,
   "id": "9c43e2e4",
   "metadata": {},
   "outputs": [],
   "source": [
    "def crrBinomial(S, r, vol, payoffType, K, T, n):\n",
    "    t = T / n\n",
    "    b = math.exp(vol * vol * t+r*t) + math.exp(-r * t)\n",
    "    u = (b + math.sqrt(b*b - 4)) / 2\n",
    "    p = (math.exp(r * t) - (1/u)) / (u - 1/u)\n",
    "    # set up the last time slice, there are n+1 nodes at the last time slice\n",
    "    payoffDict = {\n",
    "        PayoffType.Call: lambda s: max(s-K, 0),\n",
    "        PayoffType.Put: lambda s: max(K-s, 0),\n",
    "    }\n",
    "    vs = [payoffDict[payoffType]( S * u**(n-i-i)) for i in range(n+1)]\n",
    "    # iterate backward\n",
    "    for i in range(n-1, -1, -1):\n",
    "        # calculate the value of each node at time slide i, there are i nodes\n",
    "        for j in range(i+1):\n",
    "            vs[j] = math.exp(-r * t) * (vs[j] * p + vs[j+1] * (1-p))\n",
    "    return vs[0]"
   ]
  },
  {
   "cell_type": "code",
   "execution_count": 36,
   "id": "683c5fc4",
   "metadata": {},
   "outputs": [
    {
     "name": "stdout",
     "output_type": "stream",
     "text": [
      "blackPrice: \t 6.297254539086019\n",
      "crrNStepTree: \t 6.296057152109465\n"
     ]
    }
   ],
   "source": [
    "# test ---\n",
    "S, r, vol, K, T = 100, 0.01, 0.2, 105, 1.0\n",
    "print(\"blackPrice: \\t\", bsPrice(S, r, vol, T, K, PayoffType.Call))\n",
    "print(\"crrNStepTree: \\t\", crrBinomial(S, r, vol, PayoffType.Call, K, T, 300))"
   ]
  },
  {
   "cell_type": "code",
   "execution_count": 24,
   "id": "17d5c40e",
   "metadata": {},
   "outputs": [
    {
     "data": {
      "image/png": "[encoded data removed]",
      "text/plain": [
       "<Figure size 432x288 with 1 Axes>"
      ]
     },
     "metadata": {
      "needs_background": "light"
     },
     "output_type": "display_data"
    }
   ],
   "source": [
    "import matplotlib.pyplot as plt\n",
    "n = 300\n",
    "S, r, vol, K, T = 100, 0.01, 0.2, 105, 1.0\n",
    "bsPrc = bsPrice(S, r, vol, T, K, PayoffType.Call)\n",
    "crrErrs = [(crrBinomial(S,r,vol,PayoffType.Call,K,T,i) - bsPrc) for i in range(1, n)]\n",
    "plt.plot(range(1, n), crrErrs, label = \"CRR - BSAnalytic\")\n",
    "plt.xlabel('number of tree steps')\n",
    "plt.legend()\n",
    "#plt.yscale('log')\n",
    "plt.show()"
   ]
  },
  {
   "cell_type": "code",
   "execution_count": null,
   "id": "f97b8b73",
   "metadata": {},
   "outputs": [],
   "source": [
    "class EuropeanOption():\n",
    "    def __init__(self, expiry, strike, payoffType):\n",
    "        self.expiry = expiry\n",
    "        self.strike = strike\n",
    "        self.payoffType = payoffType\n",
    "    def payoff(self, S):\n",
    "        if self.payoffType == PayoffType.Call:\n",
    "            return max(S - self.strike, 0)\n",
    "        elif self.payoffType == PayoffType.Put:\n",
    "            return max(self.strike - S, 0)\n",
    "        elif self.payoffType == PayoffType.BinaryCall:\n",
    "            if S > self.strike:\n",
    "                return 1.0\n",
    "            else:\n",
    "                return 0.0\n",
    "        elif self.payoffType == PayoffType.BinaryPut:\n",
    "            if S < self.strike:\n",
    "                return 1.0\n",
    "            else:\n",
    "                return 0.0\n",
    "        else:\n",
    "            raise Exception(\"payoffType not supported: \", self.payoffType)\n",
    "    def valueAtNode(self, t, S, continuation):\n",
    "        if continuation == None:\n",
    "            return self.payoff(S)\n",
    "        else:\n",
    "            return continuation"
   ]
  },
  {
   "cell_type": "code",
   "execution_count": null,
   "id": "5508f211",
   "metadata": {},
   "outputs": [],
   "source": [
    "class AmericanOption():\n",
    "    def __init__(self, expiry, strike, payoffType):\n",
    "        self.expiry = expiry\n",
    "        self.strike = strike\n",
    "        self.payoffType = payoffType\n",
    "    def payoff(self, S):\n",
    "        if self.payoffType == PayoffType.Call:\n",
    "            return max(S - self.strike, 0)\n",
    "        elif self.payoffType == PayoffType.Put:\n",
    "            return max(self.strike - S, 0)\n",
    "        else:\n",
    "            raise Exception(\"payoffType not supported: \", self.payoffType)\n",
    "    def valueAtNode(self, t, S, continuation):\n",
    "        return max(self.payoff(S), continuation)"
   ]
  },
  {
   "cell_type": "code",
   "execution_count": null,
   "id": "a6167f19",
   "metadata": {},
   "outputs": [],
   "source": [
    "class KnockOutOption():\n",
    "    def __init__(self, downBarrier, upBarrier, barrierStart, barrierEnd, underlyingOption):\n",
    "        self.underlyingOption = underlyingOption\n",
    "        self.barrierStart = barrierStart\n",
    "        self.barrierEnd = barrierEnd\n",
    "        self.downBarrier = downBarrier\n",
    "        self.upBarrier = upBarrier\n",
    "        self.expiry = underlyingOption.expiry\n",
    "    def payoff(self, S):\n",
    "        return self.underlyingOption.payoff(S)\n",
    "    def valueAtNode(self, t, S, continuation):\n",
    "        if t > self.barrierStart and t < self.barrierEnd:\n",
    "            if self.upBarrier != None and S > self.upBarrier:\n",
    "                return 0\n",
    "            elif self.downBarrier != None and S < self.downBarrier:\n",
    "                return 0\n",
    "        return continuation"
   ]
  },
  {
   "cell_type": "code",
   "execution_count": null,
   "id": "787e90b5",
   "metadata": {},
   "outputs": [],
   "source": [
    "class AsianOption():\n",
    "    def __init__(self, fixings, payoffFun, As, nT):\n",
    "        self.fixings = fixings\n",
    "        self.payoffFun = payoffFun\n",
    "        self.expiry = fixings[-1]\n",
    "        self.nFixings = len(fixings)\n",
    "        self.As, self.nT = nT\n",
    "        self.dt = self.expiry / nT\n",
    "    def onFixingDate(self, t):\n",
    "        # we say t is on a fixing date if there is a fixing date T_i \\in (t-dt, t]\n",
    "        return filter(lambda x: x > t - self.dt and x<=t, self.fixings)\n",
    "    def valueAtNode(self, t, S, continuation):\n",
    "        if continuation == None:\n",
    "            return [self.payoffFun((a*(self.nFixings-1) + S)/self.nFixings) for a in self.As]\n",
    "        else:\n",
    "            if self.onFixingDate(t):\n",
    "                i = len(filter(lambda x: x < t, self.fixings)) # number of previous fixings\n",
    "                Ahats = [(a*(i-1) + S)/i for a in self.As]\n",
    "                nodeValues = [numpy.interp(a, self.As, continuation) for a in Ahats]\n",
    "            else:\n",
    "                nodeValues = continuation\n",
    "        return nodeValues"
   ]
  },
  {
   "cell_type": "code",
   "execution_count": null,
   "id": "a47bb626",
   "metadata": {},
   "outputs": [],
   "source": [
    "def crrBinomialG(S, r, vol, trade, n):\n",
    "    t = trade.expiry / n\n",
    "    b = math.exp(vol * vol * t+r*t) + math.exp(-r * t)\n",
    "    u = (b + math.sqrt(b*b - 4)) / 2\n",
    "    p = (math.exp(r * t) - (1/u)) / (u - 1/u)\n",
    "    # d = 1 / u\n",
    "    # set up the last time slice, there are n+1 nodes at the last time slice\n",
    "    vs = [trade.payoff( S * u**(n-i-i)) for i in range(n+1)]\n",
    "    # iterate backward\n",
    "    for i in range(n-1, -1, -1):\n",
    "        # calculate the value of each node at time slide i, there are i nodes\n",
    "        for j in range(i+1):\n",
    "            nodeS = S * u**(i-j-j)\n",
    "            continuation = math.exp(-r * t) * (vs[j] * p + vs[j+1] * (1-p))\n",
    "            vs[j] = trade.valueAtNode(t*i, nodeS, continuation)\n",
    "    return vs[0]"
   ]
  },
  {
   "cell_type": "code",
   "execution_count": null,
   "id": "5563bf40",
   "metadata": {},
   "outputs": [],
   "source": []
  },
  {
   "cell_type": "code",
   "execution_count": null,
   "id": "db1fcefa",
   "metadata": {},
   "outputs": [],
   "source": []
  },
  {
   "cell_type": "code",
   "execution_count": 27,
   "id": "6a0fc5ff",
   "metadata": {},
   "outputs": [],
   "source": [
    "############ binomial pricer and different binomial models\n",
    "def simpleCRR(r, vol, t):\n",
    "    u = math.exp(vol * math.sqrt(t))\n",
    "    p = (math.exp(r * t) - (1 / u)) / (u - 1 / u)\n",
    "    return (u, 1 / u, p)\n",
    "\n",
    "def crrCalib(r, vol, t):\n",
    "    b = math.exp(vol * vol * t + r * t) + math.exp(-r * t)\n",
    "    u = (b + math.sqrt(b * b - 4)) / 2\n",
    "    p = (math.exp(r * t) - (1 / u)) / (u - 1 / u)\n",
    "    return (u, 1/u, p)\n",
    "\n",
    "def jrrnCalib(r, vol, t):\n",
    "    u = math.exp((r - vol * vol / 2) * t + vol * math.sqrt(t))\n",
    "    d = math.exp((r - vol * vol / 2) * t - vol * math.sqrt(t))\n",
    "    p = (math.exp(r * t) - d) / (u - d)\n",
    "    return (u, d, p)\n",
    "\n",
    "def jreqCalib(r, vol, t):\n",
    "    u = math.exp((r - vol * vol / 2) * t + vol * math.sqrt(t))\n",
    "    d = math.exp((r - vol * vol / 2) * t - vol * math.sqrt(t))\n",
    "    return (u, d, 1/2)\n",
    "\n",
    "def tianCalib(r, vol, t):\n",
    "    v = math.exp(vol * vol * t)\n",
    "    u = 0.5 * math.exp(r * t) * v * (v + 1 + math.sqrt(v*v + 2*v - 3))\n",
    "    d = 0.5 * math.exp(r * t) * v * (v + 1 - math.sqrt(v*v + 2*v - 3))\n",
    "    p = (math.exp(r * t) - d) / (u - d)\n",
    "    return (u, d, p)\n",
    "\n",
    "def binomialPricer(S, r, vol, trade, n, calib):\n",
    "    t = trade.expiry / n\n",
    "    (u, d, p) = calib(r, vol, t)\n",
    "    # set up the last time slice, there are n+1 nodes at the last time slice\n",
    "    vs = [trade.payoff(S * u ** (n - i) * d ** i) for i in range(n + 1)]\n",
    "    # iterate backward\n",
    "    for i in range(n - 1, -1, -1):\n",
    "        # calculate the value of each node at time slide i, there are i nodes\n",
    "        for j in range(i + 1):\n",
    "            nodeS = S * u ** (i - j) * d ** j\n",
    "            continuation = math.exp(-r * t) * (vs[j] * p + vs[j + 1] * (1 - p))\n",
    "            vs[j] = trade.valueAtNode(t * i, nodeS, continuation)\n",
    "    return vs[0]\n",
    "\n",
    "def test1DTiming():\n",
    "    opt = EuropeanOption(1, 105, PayoffType.Call)\n",
    "    S, r, vol = 100, 0.01, 0.2\n",
    "\n",
    "    bsprc = bsPrice(S, r, vol, opt.expiry, opt.strike, opt.payoffType)\n",
    "    print(\"bsPrice = \\t \", bsprc)\n",
    "    n = 20\n",
    "    prc = [None] * n\n",
    "    timing = [None] * n\n",
    "    nSteps = [None] * n\n",
    "    for i in range(1, n + 1):\n",
    "        nSteps[i - 1] = 20 * i\n",
    "        start = time.time()\n",
    "        prc[i - 1] = binomialPricer(S, r, vol, opt, nSteps[i - 1], tianCalib) - bsprc\n",
    "        timing[i - 1] = time.time() - start\n",
    "\n",
    "    fig, ax1 = plt.subplots()\n",
    "    ax2 = ax1.twinx()\n",
    "    ax1.plot(nSteps, prc, 'g')\n",
    "    ax2.plot(nSteps, timing, 'b')\n",
    "\n",
    "    ax1.set_xlabel('nTreeSteps')\n",
    "    ax1.set_ylabel('Pricing Error')\n",
    "    ax2.set_ylabel('Timeing')\n",
    "    plt.legend()\n",
    "    plt.show()\n",
    "\n",
    "def testBTrees():\n",
    "    opt = EuropeanOption(1, 105, PayoffType.Call)\n",
    "    S, r, vol = 100, 0.01, 0.2\n",
    "\n",
    "    bsprc = bsPrice(S, r, vol, opt.expiry, opt.strike, opt.payoffType)\n",
    "    print(\"bsPrice = \\t \", bsprc)\n",
    "    n = 300\n",
    "\n",
    "    crrErrs = [math.log(abs(binomialPricer(S, r, vol, opt, i, crrCalib) - bsprc)) for i in range(1, n)]\n",
    "    jrrnErrs = [math.log(abs(binomialPricer(S, r, vol, opt, i, jrrnCalib) - bsprc)) for i in range(1, n)]\n",
    "    jreqErrs = [math.log(abs(binomialPricer(S, r, vol, opt, i, jreqCalib) - bsprc)) for i in range(1, n)]\n",
    "    tianErrs = [math.log(abs(binomialPricer(S, r, vol, opt, i, tianCalib) - bsprc)) for i in range(1, n)]\n",
    "\n",
    "    plt.plot(range(1, n), crrErrs, label=\"crr\")\n",
    "    plt.plot(range(1, n), jrrnErrs, label=\"jrrn\")\n",
    "    plt.plot(range(1, n), jreqErrs, label=\"jreq\")\n",
    "    plt.plot(range(1, n), tianErrs, label=\"tian\")\n",
    "    plt.legend()\n",
    "    plt.show()\n",
    "\n",
    "class EuropeanPayoff():\n",
    "    def __init__(self, expiry, payoffFun):\n",
    "        self.expiry = expiry\n",
    "        self.payoffFun = payoffFun\n",
    "    def payoff(self, S):\n",
    "        return self.payoffFun(S)\n",
    "    def valueAtNode(self, t, S, continuation):\n",
    "        return continuation\n",
    "\n",
    "class AmericanPayoff():\n",
    "    def __init__(self, expiry, payoffFun):\n",
    "        self.expiry = expiry\n",
    "        self.payoffFun = payoffFun\n",
    "    def payoff(self, S):\n",
    "        return self.payoffFun(S)\n",
    "    def valueAtNode(self, t, S, continuation):\n",
    "        return max(self.payoff(S), continuation)\n",
    "\n",
    "def testAmerSpread():\n",
    "    S, r, vol = 95, 0.05, 0.2\n",
    "    callSpread = lambda S: min(max(S - 90, 0), 10)\n",
    "    plt.plot(range(80, 120), [callSpread(i) for i in range(80, 120)])\n",
    "    plt.show()\n",
    "    print(\"Euro callspread: \", binomialPricer(S, r, vol, EuropeanPayoff(1, callSpread), 300, crrCalib))\n",
    "    print(\"Amer callspread: \", binomialPricer(S, r, vol, AmericanPayoff(1, callSpread), 300, crrCalib))\n",
    "\n",
    "# def testDelta():\n",
    "    # crrPrc = lambda S : binomialPricer(S, r, vol, opt, n, crrCalib)\n",
    "    # tianPrc = lambda S : binomialPricer(S, r, vol, opt, n, tianCalib)\n",
    "    # triPrc = lambda S :  binomialPricer(S, r, vol, opt, n, tianCalib)\n",
    "    # ladder = range(80, 120)\n",
    "    #\n",
    "    # crrDelta = [(crrPrc(s*1.001) - crrPrc(s*0.999)) / s/0.002 for s in ladder]\n",
    "    # tianDelta = [(tianPrc(s * 1.001) - tianPrc(s * 0.999)) / s / 0.002 for s in ladder]\n",
    "    # triDelta = [(triPrc(s * 1.001) - triPrc(s * 0.999)) / s / 0.002 for s in ladder]\n",
    "    #\n",
    "    # # plt.plot(ladder, crrDelta, label = \"crr\")\n",
    "    # # plt.plot(ladder, tianDelta, label=\"tian\")\n",
    "    # plt.plot(ladder, triDelta, label=\"trinomial\")\n",
    "    # plt.legend()\n",
    "    # plt.show()\n",
    "\n",
    "\n",
    "def additiveBinomialTree(S, r, q, vol, T, n):\n",
    "    t = T / n\n",
    "    treeNodes = [[0]] # at t = 0, only one node,\n",
    "    probs = [[]]\n",
    "    dx = vol * math.sqrt(t)\n",
    "    for i in range(1, n+1):\n",
    "        # calculate the value of each node at time slide i, there are i+1 nodes\n",
    "        slice = [0] * (i+1)\n",
    "        for j in range(i):\n",
    "            slice[j] = treeNodes[i-1][j] + dx\n",
    "        slice[i] = treeNodes[i-1][i-1] - dx\n",
    "        prob = [0] * (i)\n",
    "        for j in range(i):\n",
    "            prob[j] = ((r-q-0.5*vol*vol)*t + dx) / 2 / dx\n",
    "        treeNodes.append(slice)\n",
    "        probs.append(prob)\n",
    "    return treeNodes, probs"
   ]
  },
  {
   "cell_type": "code",
   "execution_count": 26,
   "id": "23929fb1",
   "metadata": {},
   "outputs": [
    {
     "data": {
      "image/png": "[encoded data removed]",
      "text/plain": [
       "<Figure size 432x288 with 1 Axes>"
      ]
     },
     "metadata": {
      "needs_background": "light"
     },
     "output_type": "display_data"
    },
    {
     "name": "stdout",
     "output_type": "stream",
     "text": [
      "[[], [0.5237170824512629], [0.5237170824512629, 0.5237170824512629], [0.5237170824512629, 0.5237170824512629, 0.5237170824512629], [0.5237170824512629, 0.5237170824512629, 0.5237170824512629, 0.5237170824512629], [0.5237170824512629, 0.5237170824512629, 0.5237170824512629, 0.5237170824512629, 0.5237170824512629], [0.5237170824512629, 0.5237170824512629, 0.5237170824512629, 0.5237170824512629, 0.5237170824512629, 0.5237170824512629], [0.5237170824512629, 0.5237170824512629, 0.5237170824512629, 0.5237170824512629, 0.5237170824512629, 0.5237170824512629, 0.5237170824512629], [0.5237170824512629, 0.5237170824512629, 0.5237170824512629, 0.5237170824512629, 0.5237170824512629, 0.5237170824512629, 0.5237170824512629, 0.5237170824512629], [0.5237170824512629, 0.5237170824512629, 0.5237170824512629, 0.5237170824512629, 0.5237170824512629, 0.5237170824512629, 0.5237170824512629, 0.5237170824512629, 0.5237170824512629], [0.5237170824512629, 0.5237170824512629, 0.5237170824512629, 0.5237170824512629, 0.5237170824512629, 0.5237170824512629, 0.5237170824512629, 0.5237170824512629, 0.5237170824512629, 0.5237170824512629]]\n"
     ]
    }
   ],
   "source": [
    "if __name__ == \"__main__\":\n",
    "    # test1DTiming()\n",
    "    # testAmerSpread()\n",
    "    S0, r, q, vol = 100, 0.03, 0.01, 0.1\n",
    "    T, nT = 1, 10\n",
    "    dt = T / nT\n",
    "    treeNodes, probs = additiveBinomialTree(S0, r, q, vol, T, nT)\n",
    "    fig = plt.figure()\n",
    "    for i in range(len(treeNodes)-1):\n",
    "        x = [dt, 0, dt]\n",
    "        for j in range(i):\n",
    "            x += [0, dt]\n",
    "        x = np.array(x) + i*dt\n",
    "        y = treeNodes[i] + treeNodes[i+1]\n",
    "        y.sort()\n",
    "        y = [S0 * math.exp(x) for x in y]\n",
    "        plt.plot(x, y, 'bo-')\n",
    "    plt.show()\n",
    "    print(probs)\n"
   ]
  },
  {
   "cell_type": "code",
   "execution_count": null,
   "id": "aa991a91",
   "metadata": {},
   "outputs": [],
   "source": []
  },
  {
   "cell_type": "code",
   "execution_count": null,
   "id": "1607f349",
   "metadata": {},
   "outputs": [],
   "source": []
  },
  {
   "cell_type": "code",
   "execution_count": null,
   "id": "91e9944a",
   "metadata": {},
   "outputs": [],
   "source": []
  },
  {
   "cell_type": "code",
   "execution_count": null,
   "id": "91b68a3a",
   "metadata": {},
   "outputs": [],
   "source": []
  },
  {
   "cell_type": "code",
   "execution_count": null,
   "id": "8792a116",
   "metadata": {},
   "outputs": [],
   "source": []
  },
  {
   "cell_type": "code",
   "execution_count": null,
   "id": "26cd6727",
   "metadata": {},
   "outputs": [],
   "source": []
  }
 ],
 "metadata": {
  "kernelspec": {
   "display_name": "Python 3 (ipykernel)",
   "language": "python",
   "name": "python3"
  },
  "language_info": {
   "codemirror_mode": {
    "name": "ipython",
    "version": 3
   },
   "file_extension": ".py",
   "mimetype": "text/x-python",
   "name": "python",
   "nbconvert_exporter": "python",
   "pygments_lexer": "ipython3",
   "version": "3.9.6"
  }
 },
 "nbformat": 4,
 "nbformat_minor": 5
}
