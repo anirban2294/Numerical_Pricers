{
 "cells": [
  {
   "cell_type": "code",
   "execution_count": 1,
   "metadata": {
    "pycharm": {
     "is_executing": true
    }
   },
   "outputs": [],
   "source": [
    "import numpy \n",
    "import math\n",
    "\n",
    "class SpreadOption():\n",
    "    def __init__(self, expiry):\n",
    "        self.expiry = expiry\n",
    "    def payoff(self, S1, S2):\n",
    "        return max(S1-S2, 0)\n",
    "    def valueAtNode(self, t, S1, S2, continuation):\n",
    "        return continuation\n",
    "\n",
    "def calib2D(r, q1, q2, vol1, vol2, rho, t):\n",
    "    sqrtt = math.sqrt(t)\n",
    "    v1 = r - q1 - vol1 * vol1 / 2\n",
    "    v2 = r - q2 - vol2 * vol2 / 2\n",
    "    x1 = vol1 * sqrtt\n",
    "    x2 = vol2 * sqrtt\n",
    "    a = x1 * x2\n",
    "    b = x2 * v1 * t\n",
    "    c = x1 * v2 * t\n",
    "    d = rho * vol1 * vol2 * t\n",
    "    puu = (a + b + c + d)/4/a\n",
    "    pud = (a + b - c - d)/4/a\n",
    "    pdu = (a - b + c - d)/4/a\n",
    "    pdd = (a - b - c + d)/4/a\n",
    "    return (x1, x2, puu, pud, pdu, pdd)\n",
    "\n",
    "def binomialPricer2D(S1, S2, r, q1, q2, vol1, vol2, rho, trade, n):\n",
    "    t = trade.expiry / n\n",
    "    (x1, x2, puu, pud, pdu, pdd) = calib2D(r, q1, q2, vol1, vol2, rho, t)\n",
    "    vs = numpy.zeros(shape=(n+1, n+1))\n",
    "    for i in range(n+1):\n",
    "        s1i = S1 * math.exp(x1 * (n - 2 * i))\n",
    "        for j in range(n+1):\n",
    "            s2j = S2 * math.exp(x2 * (n - 2*j))\n",
    "            vs[i, j] = trade.payoff(s1i, s2j)\n",
    "    # iterate backward\n",
    "    for k in range(n - 1, -1, -1):\n",
    "        # calculate the value of each node at time slide k, there are (k+1) x (k+1) nodes\n",
    "        for i in range(k + 1):\n",
    "            s1i = S1 * math.exp(x1 * (k - 2*i))\n",
    "            for j in range(k + 1):\n",
    "                s2j = S2 * math.exp(x2 * (k - 2*j))\n",
    "                continuation = math.exp(-r * t) * (vs[i, j] * puu + vs[i, j+1] * pud + vs[i+1, j] * pdu + vs[i+1, j+1] * pdd)\n",
    "                vs[i, j] = trade.valueAtNode(t * k, s1i, s2j, continuation)\n",
    "    return vs[0, 0]\n"
   ]
  },
  {
   "cell_type": "code",
   "execution_count": 2,
   "metadata": {
    "pycharm": {
     "is_executing": true,
     "name": "#%%\n"
    }
   },
   "outputs": [],
   "source": [
    "def cnorm(x):\n",
    "    return (1.0 + math.erf(x / math.sqrt(2.0))) / 2.0\n",
    "\n",
    "# analytic solution for spread option\n",
    "def margrabe(S1, S2, q1, q2, vol1, vol2, rho, T):\n",
    "    sigma = math.sqrt(vol1*vol1 + vol2*vol2 - 2*rho*vol1*vol2)\n",
    "    stdev = sigma * math.sqrt(T)\n",
    "    d1 = (math.log(S1 / S2) + (q2 - q1) * T) / stdev + stdev / 2\n",
    "    d2 = d1 - stdev\n",
    "    return math.exp(-q1*T) * S1 * cnorm(d1) - math.exp(-q2*T) * S2 * cnorm(d2)\n"
   ]
  },
  {
   "cell_type": "code",
   "execution_count": 3,
   "metadata": {
    "pycharm": {
     "is_executing": true,
     "name": "#%%\n"
    }
   },
   "outputs": [
    {
     "name": "stderr",
     "output_type": "stream",
     "text": [
      "No artists with labels found to put in legend.  Note that artists whose label start with an underscore are ignored when legend() is called with no argument.\n"
     ]
    },
    {
     "data": {
      "image/png": "[encoded data removed]",
      "text/plain": [
       "<Figure size 432x288 with 2 Axes>"
      ]
     },
     "metadata": {
      "needs_background": "light"
     },
     "output_type": "display_data"
    }
   ],
   "source": [
    "import time\n",
    "import matplotlib.pyplot as plt\n",
    "def testSpreadOption():\n",
    "    S1, S2, r, q1, q2, vol1, vol2, rho = 100, 100, 0.05, 0.02, 0.03, 0.15, 0.2, 0.6\n",
    "    spreadOption = SpreadOption(expiry = 1)\n",
    "    refPrice = margrabe(S1, S2, q1, q2, vol1, vol2, rho, T = 1.0)\n",
    "\n",
    "    n = 10\n",
    "    prc = [None] * n\n",
    "    timing = [None] * n\n",
    "    nSteps = [None] * n\n",
    "    for i in range(1, n+1):\n",
    "        nSteps[i - 1] = 20 * i\n",
    "        start = time.time()\n",
    "        prc[i-1] = binomialPricer2D(S1, S2, r, q1, q2, vol1, vol2, rho, spreadOption, nSteps[i-1]) - refPrice\n",
    "        timing[i-1] = time.time() - start\n",
    "\n",
    "    fig, ax1 = plt.subplots()\n",
    "    ax2 = ax1.twinx()\n",
    "    ax1.plot(nSteps, prc, 'g')\n",
    "    ax2.plot(nSteps, timing, 'b')\n",
    "\n",
    "    ax1.set_xlabel('nTreeSteps')\n",
    "    ax1.set_ylabel('Pricing Error')\n",
    "    ax2.set_ylabel('Timeing')\n",
    "    plt.legend()\n",
    "    plt.show()\n",
    "\n",
    "# this test takes a while to run\n",
    "testSpreadOption()"
   ]
  },
  {
   "cell_type": "markdown",
   "metadata": {
    "pycharm": {
     "name": "#%% md\n"
    }
   },
   "source": [
    "Compare the timing with 1D binomial tree, 1D is much faster when nSteps grows"
   ]
  },
  {
   "cell_type": "code",
   "execution_count": 20,
   "metadata": {
    "pycharm": {
     "is_executing": true,
     "name": "#%%\n"
    }
   },
   "outputs": [],
   "source": [
    "from enum import Enum\n",
    "class PayoffType(Enum):\n",
    "    Call = 0\n",
    "    Put = 1\n",
    "    \n",
    "class EuropeanOption():\n",
    "    def __init__(self, expiry, strike, payoffType):\n",
    "        self.expiry = expiry\n",
    "        self.strike = strike\n",
    "        self.payoffType = payoffType\n",
    "    def payoff(self, S):\n",
    "        if self.payoffType == PayoffType.Call:\n",
    "            return max(S - self.strike, 0)\n",
    "        elif self.payoffType == PayoffType.Put:\n",
    "            return max(self.strike - S, 0)\n",
    "        else:\n",
    "            raise Exception(\"payoffType not supported: \", self.payoffType)\n",
    "    def valueAtNode(self, t, S, continuation):\n",
    "        if continuation == None:\n",
    "            return self.payoff(S)\n",
    "        else:\n",
    "            return continuation\n",
    "\n",
    "\n",
    "def bsPrice(S, r, vol, T, strike, payoffType):\n",
    "    fwd = S * math.exp(r * T)\n",
    "    stdev = vol * math.sqrt(T)\n",
    "    d1 = math.log(fwd / strike) / stdev + stdev / 2\n",
    "    d2 = d1 - stdev\n",
    "    if payoffType == PayoffType.Call:\n",
    "        return math.exp(-r * T) * (fwd * cnorm(d1) - cnorm(d2) * strike)\n",
    "    elif payoffType == PayoffType.Put:\n",
    "        return math.exp(-r * T) * (strike * cnorm(-d2) - cnorm(-d1) * fwd)\n",
    "    else:\n",
    "        raise Exception(\"not supported payoff type\", payoffType)\n",
    "\n",
    "def tianCalib(r, vol, t):\n",
    "    v = math.exp(vol * vol * t)\n",
    "    u = 0.5 * math.exp(r * t) * v * (v + 1 + math.sqrt(v*v + 2*v - 3))\n",
    "    d = 0.5 * math.exp(r * t) * v * (v + 1 - math.sqrt(v*v + 2*v - 3))\n",
    "    p = (math.exp(r * t) - d) / (u - d)\n",
    "    return (u, d, p)\n",
    "\n",
    "def binomialPricer(S, r, vol, trade, n, calib):\n",
    "    t = trade.expiry / n\n",
    "    (u, d, p) = calib(r, vol, t)\n",
    "    # set up the last time slice, there are n+1 nodes at the last time slice\n",
    "    vs = [trade.payoff(S * u ** (n - i) * d ** i) for i in range(n + 1)]\n",
    "    # iterate backward\n",
    "    for i in range(n - 1, -1, -1):\n",
    "        # calculate the value of each node at time slide i, there are i nodes\n",
    "        for j in range(i + 1):\n",
    "            nodeS = S * u ** (i - j) * d ** j\n",
    "            continuation = math.exp(-r * t) * (vs[j] * p + vs[j + 1] * (1 - p))\n",
    "            vs[j] = trade.valueAtNode(t * i, nodeS, continuation)\n",
    "    return vs[0]"
   ]
  },
  {
   "cell_type": "code",
   "execution_count": 16,
   "metadata": {
    "pycharm": {
     "is_executing": true,
     "name": "#%%\n"
    }
   },
   "outputs": [
    {
     "name": "stdout",
     "output_type": "stream",
     "text": [
      "bsPrice = \t  6.297254539086019\n"
     ]
    },
    {
     "name": "stderr",
     "output_type": "stream",
     "text": [
      "No handles with labels found to put in legend.\n"
     ]
    },
    {
     "data": {
      "image/png": "[encoded data removed]",
      "text/plain": [
       "<Figure size 432x288 with 2 Axes>"
      ]
     },
     "metadata": {
      "needs_background": "light"
     },
     "output_type": "display_data"
    }
   ],
   "source": [
    "def test1DTiming():\n",
    "    opt = EuropeanOption(1, 105, PayoffType.Call)\n",
    "    S, r, vol = 100, 0.01, 0.2\n",
    "\n",
    "    bsprc = bsPrice(S, r, vol, opt.expiry, opt.strike, opt.payoffType)\n",
    "    print(\"bsPrice = \\t \", bsprc)\n",
    "    n = 20\n",
    "    prc = [None] * n\n",
    "    timing = [None] * n\n",
    "    nSteps = [None] * n\n",
    "    for i in range(1, n + 1):\n",
    "        nSteps[i - 1] = 20 * i\n",
    "        start = time.time()\n",
    "        prc[i - 1] = binomialPricer(S, r, vol, opt, nSteps[i - 1], tianCalib) - bsprc\n",
    "        timing[i - 1] = time.time() - start\n",
    "\n",
    "    fig, ax1 = plt.subplots()\n",
    "    ax2 = ax1.twinx()\n",
    "    ax1.plot(nSteps, prc, 'g')\n",
    "    ax2.plot(nSteps, timing, 'b')\n",
    "\n",
    "    ax1.set_xlabel('nTreeSteps')\n",
    "    ax1.set_ylabel('Pricing Error')\n",
    "    ax2.set_ylabel('Timeing')\n",
    "    plt.legend()\n",
    "    plt.show()\n",
    "    \n",
    "test1DTiming()\n"
   ]
  },
  {
   "cell_type": "code",
   "execution_count": null,
   "metadata": {},
   "outputs": [],
   "source": []
  }
 ],
 "metadata": {
  "kernelspec": {
   "display_name": "Python 3 (ipykernel)",
   "language": "python",
   "name": "python3"
  },
  "language_info": {
   "codemirror_mode": {
    "name": "ipython",
    "version": 3
   },
   "file_extension": ".py",
   "mimetype": "text/x-python",
   "name": "python",
   "nbconvert_exporter": "python",
   "pygments_lexer": "ipython3",
   "version": "3.10.1"
  },
  "pycharm": {
   "stem_cell": {
    "cell_type": "raw",
    "metadata": {
     "collapsed": false
    },
    "source": []
   }
  }
 },
 "nbformat": 4,
 "nbformat_minor": 1
}