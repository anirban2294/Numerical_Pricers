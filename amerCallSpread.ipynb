{
 "cells": [
  {
   "cell_type": "markdown",
   "source": [
    "### American Call Spread price"
   ],
   "metadata": {
    "collapsed": false,
    "pycharm": {
     "name": "#%% md\n"
    }
   }
  },
  {
   "cell_type": "code",
   "execution_count": 3,
   "outputs": [],
   "source": [
    "import math\n",
    "\n",
    "class EuropeanPayoff():\n",
    "    def __init__(self, expiry, payoffFun):\n",
    "        self.expiry = expiry\n",
    "        self.payoffFun = payoffFun\n",
    "    def payoff(self, S):\n",
    "        return self.payoffFun(S)\n",
    "    def valueAtNode(self, t, S, continuation):\n",
    "        return continuation\n",
    "\n",
    "class AmericanPayoff():\n",
    "    def __init__(self, expiry, payoffFun):\n",
    "        self.expiry = expiry\n",
    "        self.payoffFun = payoffFun\n",
    "    def payoff(self, S):\n",
    "        return self.payoffFun(S)\n",
    "    def valueAtNode(self, t, S, continuation):\n",
    "        return max(self.payoff(S), continuation)\n",
    "    \n",
    "def binomialPricer(S, r, vol, trade, n, calib):\n",
    "    t = trade.expiry / n\n",
    "    (u, d, p) = calib(r, vol, t)\n",
    "    # set up the last time slice, there are n+1 nodes at the last time slice\n",
    "    vs = [trade.payoff(S * u ** (n - i) * d ** i) for i in range(n + 1)]\n",
    "    # iterate backward\n",
    "    for i in range(n - 1, -1, -1):\n",
    "        # calculate the value of each node at time slide i, there are i nodes\n",
    "        for j in range(i + 1):\n",
    "            nodeS = S * u ** (i - j) * d ** j\n",
    "            continuation = math.exp(-r * t) * (vs[j] * p + vs[j + 1] * (1 - p))\n",
    "            vs[j] = trade.valueAtNode(t * i, nodeS, continuation)\n",
    "    return vs[0]\n",
    "\n",
    "def crrCalib(r, vol, t):\n",
    "    b = math.exp(vol * vol * t + r * t) + math.exp(-r * t)\n",
    "    u = (b + math.sqrt(b * b - 4)) / 2\n",
    "    p = (math.exp(r * t) - (1 / u)) / (u - 1 / u)\n",
    "    return (u, 1/u, p)"
   ],
   "metadata": {
    "collapsed": false,
    "pycharm": {
     "name": "#%%\n",
     "is_executing": false
    }
   }
  },
  {
   "cell_type": "code",
   "execution_count": 13,
   "outputs": [
    {
     "data": {
      "text/plain": "<Figure size 432x288 with 1 Axes>",
      "image/png": "[encoded data removed]"
     },
     "metadata": {
      "needs_background": "light"
     },
     "output_type": "display_data"
    },
    {
     "name": "stdout",
     "text": [
      "Euro callspread:  6.259190489575012\n",
      "Amer callspread:  10.0\n"
     ],
     "output_type": "stream"
    }
   ],
   "source": [
    "import matplotlib.pyplot as plt\n",
    "def testAmerSpread():\n",
    "    S0, r, vol = 100, 0.05, 0.2\n",
    "    callSpread = lambda S: min(max(S - 90, 0), 10)\n",
    "    euroPrice = lambda S: binomialPricer(S, r, vol, EuropeanPayoff(1, callSpread), 300, crrCalib)\n",
    "    amerPrice = lambda S: binomialPricer(S, r, vol, AmericanPayoff(1, callSpread), 300, crrCalib)\n",
    "    \n",
    "    plt.plot(range(50, 150), [callSpread(i) for i in range(50, 150)], label='payoff')\n",
    "    plt.plot(range(50, 150), [euroPrice(i) for i in range(50, 150)], label='euroCallSpread')\n",
    "    plt.plot(range(50, 150), [amerPrice(i) for i in range(50, 150)], label='amerCallSpread')\n",
    "    plt.legend()\n",
    "    plt.show()\n",
    "    print(\"Euro callspread: \", binomialPricer(S0, r, vol, EuropeanPayoff(1, callSpread), 300, crrCalib))\n",
    "    print(\"Amer callspread: \", binomialPricer(S0, r, vol, AmericanPayoff(1, callSpread), 300, crrCalib))\n",
    "\n",
    "testAmerSpread()"
   ],
   "metadata": {
    "collapsed": false,
    "pycharm": {
     "name": "#%%\n",
     "is_executing": false
    }
   }
  },
  {
   "cell_type": "markdown",
   "metadata": {
    "collapsed": true,
    "pycharm": {
     "name": "#%% md\n"
    }
   },
   "source": [
    "For American call spread, if r > 0, for all nodes with S > 100, the option holder should early exercise since it's already the maximum payoff.\n",
    "Clearly the early exercise feature worths much more than an American call or put.\n",
    "\n",
    "Note that American call spread is not equivelent to long American call with lower strike and short American call with higher strike. \n",
    "For the former, the holder of the call spread decides the time to exercise. For the latter the two American call option holders are the two counterparties. So they will exercise separately.\n"
   ]
  }
 ],
 "metadata": {
  "kernelspec": {
   "display_name": "Python 3",
   "language": "python",
   "name": "python3"
  },
  "language_info": {
   "codemirror_mode": {
    "name": "ipython",
    "version": 2
   },
   "file_extension": ".py",
   "mimetype": "text/x-python",
   "name": "python",
   "nbconvert_exporter": "python",
   "pygments_lexer": "ipython2",
   "version": "2.7.6"
  }
 },
 "nbformat": 4,
 "nbformat_minor": 0
}